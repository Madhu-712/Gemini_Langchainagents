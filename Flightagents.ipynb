{
  "cells": [
    {
      "cell_type": "markdown",
      "metadata": {
        "id": "view-in-github",
        "colab_type": "text"
      },
      "source": [
        "<a href=\"https://colab.research.google.com/github/Madhu-712/Gemini_Langchainagents/blob/main/Flightagents.ipynb\" target=\"_parent\"><img src=\"https://colab.research.google.com/assets/colab-badge.svg\" alt=\"Open In Colab\"/></a>"
      ]
    },
    {
      "cell_type": "code",
      "execution_count": null,
      "metadata": {
        "id": "RXInneX6xx7c"
      },
      "outputs": [],
      "source": [
        "!pip install -U -q \"google-generativeai>=0.8.2\""
      ]
    },
    {
      "cell_type": "code",
      "source": [
        "pip install -qU langchain-google-vertexai"
      ],
      "metadata": {
        "id": "AjP9__XMBqb6"
      },
      "execution_count": null,
      "outputs": []
    },
    {
      "cell_type": "markdown",
      "source": [
        "#langchain Agents"
      ],
      "metadata": {
        "id": "vXivRCCFJimU"
      }
    },
    {
      "cell_type": "code",
      "source": [
        "\n",
        "from datetime import datetime, timedelta\n",
        "import pytz\n",
        "import os\n",
        "import requests\n",
        "from langchain.agents import AgentExecutor, create_react_agent\n",
        "from langchain.pydantic_v1 import BaseModel, Field\n",
        "from langchain.tools import BaseTool, StructuredTool\n",
        "from langchain.prompts import PromptTemplate\n",
        "from langchain.google_serp import GoogleSerpAPIWrapper\n",
        "\n",
        "#Set up Api key for aerodat\n",
        "AERODAT_BASE_URL = \"https://aerodat.flightaware.com/aerodat\"\n",
        "AERODAT_KEY = os.getenv(\"AERODAT_KEY\")\n",
        "\n",
        "#functions\n",
        "def get_api_session():\n",
        "    session = requests.Session()\n",
        "    session.headers.update({\"x-apikey\": AERODAT_KEY})\n",
        "    return session\n",
        "\n",
        "def fetch_flight_data(flight_id, session):\n",
        "    if \" \" in flight_id:\n",
        "        flight_id = flight_id.split(\" \")[1]\n",
        "\n",
        "    start_date = (datetime.now().date() - timedelta(days=1)).strftime(\"%Y-%m-%d\")\n",
        "    end_date = datetime.now().date().strftime(\"%Y-%m-%d\")\n",
        "\n",
        "    api_resource = f\"/flights?flightId={flight_id}&startDate={start_date}&endDate={end_date}\"\n",
        "\n",
        "    response = session.get(AERODAT_BASE_URL + api_resource)\n",
        "    response.raise_for_status() # Raises HTTPError, if one occurred\n",
        "    return response.json()['flights'][0]\n",
        "\n",
        "\n",
        "def utc_to_local(utc_datetime_str, local_timezone_str):\n",
        "    local_timezone = pytz.timezone(local_timezone_str)\n",
        "    utc_datetime = datetime.strptime(utc_datetime_str, \"%Y-%m-%dT%H:%M:%SZ\").replace(tzinfo=pytz.utc)\n",
        "    local_datetime = utc_datetime.astimezone(local_timezone)\n",
        "    return local_datetime.strftime(\"%Y-%m-%d %H:%M:%S\")"
      ],
      "metadata": {
        "id": "g18vhyWYBl4P"
      },
      "execution_count": null,
      "outputs": []
    },
    {
      "cell_type": "code",
      "source": [
        "\n",
        "# Ensure your VertexAI credentials are configured\n",
        "\n",
        "from langchain_google_vertexai import ChatVertexAI\n",
        "\n",
        "llm = ChatVertexAI(model=\"gemini-1.5-flash\")"
      ],
      "metadata": {
        "id": "nRlckcB5EZD5"
      },
      "execution_count": null,
      "outputs": []
    },
    {
      "cell_type": "code",
      "source": [
        "@tool\n",
        "def get_flight_status(flight_id:str):\n",
        "     \"\"\"Returns Flight Information.\"\"\"\n",
        "      session = get_api_session()\n",
        "        flight_data = fetch_flight_data(flight_id, session)\n",
        "\n",
        "\n",
        "        dep_key = \"estimatedOut\" if \"estimatedOut\" in flight_data and flight_data[\"estimatedOut\"] else \\\n",
        "                   \"actualOut\" if \"actualOut\" in flight_data and flight_data[\"actualOut\"] else \\\n",
        "                  \"scheduledOut\"\n",
        "\n",
        "\n",
        "        arr_key = \"estimatedIn\" if \"estimatedIn\" in flight_data and flight_data[\"estimatedIn\"] else \\\n",
        "                   \"actualIn\" if \"actualIn\" in flight_data and flight_data[\"actualIn\"] else \\\n",
        "                  \"scheduledIn\"\n",
        "\n",
        "        flight_details = {\n",
        "            \"source\": flight_data[\"origin\"][\"city\"],\n",
        "            \"destination\" : flight_data[\"destination\"][\"city\"],\n",
        "            \"depart_time\": utc_to_local(flight_data.get(dep_key), flight_data[\"origin\"][\"timezone\"]),\n",
        "            \"arrival_time\": utc_to_local(flight_data.get(arr_key), flight_data[\"destination\"][\"timezone\"]),\n",
        "            \"status\": flight_data[\"status\"]\n",
        "        }\n",
        "\n",
        "\n",
        "        return f\"\"\"The current status of flight {flight_id} from {flight_details[\"source\"]} to {flight_details[\"destination\"]} is {flight_details[\"status\"]} with the departure time as {flight_details[\"depart_time\"]} and arrival time as {flight_details[\"arrival_time\"]}\"\"\""
      ],
      "metadata": {
        "id": "9G25SYxXCEjI"
      },
      "execution_count": null,
      "outputs": []
    },
    {
      "cell_type": "code",
      "source": [
        "tools =GetFlightStatus()"
      ],
      "metadata": {
        "id": "FghppbxwC7wx"
      },
      "execution_count": null,
      "outputs": []
    },
    {
      "cell_type": "code",
      "source": [
        "prompt = PromptTemplate(\n",
        "    template=\"\"\"Answer the following questions as best as you can. You have access to the following tools:{tool_names}\n",
        "\n",
        "Use the following format:\n",
        "\n",
        "```tool_code\n",
        "{agent_scratchpad}```\"\"\",\n",
        "    input_variables=[\"input\", \"tool_names\", \"agent_scratchpad\"],\n",
        ")"
      ],
      "metadata": {
        "id": "Sf_ebJtQC8Wp"
      },
      "execution_count": null,
      "outputs": []
    },
    {
      "cell_type": "code",
      "source": [
        "prompt"
      ],
      "metadata": {
        "id": "_uwDGOvdFNfF"
      },
      "execution_count": null,
      "outputs": []
    },
    {
      "cell_type": "code",
      "source": [
        "llm = ChatVertexAI(model=\"gemini-1.5-flash\")"
      ],
      "metadata": {
        "id": "KmPSk4KOC84F"
      },
      "execution_count": null,
      "outputs": []
    },
    {
      "cell_type": "code",
      "source": [
        "agent = create_react_agent(llm, tools, prompt)\n",
        "agent_executor = AgentExecutor.from_agent_and_tools(agent=agent, tools=tools, verbose=True)"
      ],
      "metadata": {
        "id": "b1V1eCNNDyNr"
      },
      "execution_count": null,
      "outputs": []
    },
    {
      "cell_type": "code",
      "source": [
        "Output=agent_executor.invoke({\"input\":\"what is the status of EK24 and also include source and destination along with the timings\"},verbose=True)"
      ],
      "metadata": {
        "id": "FtN08EclDy3m"
      },
      "execution_count": null,
      "outputs": []
    },
    {
      "cell_type": "code",
      "source": [
        "response(Output)"
      ],
      "metadata": {
        "id": "BwqJ_MIoE-19"
      },
      "execution_count": null,
      "outputs": []
    },
    {
      "cell_type": "code",
      "source": [
        "Output=agent_executor.invoke({\"input\":\"If I am arriving Hyderabad by EK24 and it takes about 1hr to get luggages and getting home takes 2 hrs from airport. What time I should book a cab and when will I reach Home?},verbose=True)"
      ],
      "metadata": {
        "id": "-DJvQGzNDzZ_"
      },
      "execution_count": null,
      "outputs": []
    },
    {
      "cell_type": "code",
      "source": [
        "response(Output)"
      ],
      "metadata": {
        "id": "e9CN4GrWGzYd"
      },
      "execution_count": null,
      "outputs": []
    },
    {
      "cell_type": "code",
      "source": [],
      "metadata": {
        "id": "8_LWFj8IG0Qu"
      },
      "execution_count": null,
      "outputs": []
    }
  ],
  "metadata": {
    "colab": {
      "collapsed_sections": [
        "Tce3stUlHN0L"
      ],
      "name": "aistudio_gemini_prompt_freeform.ipynb",
      "provenance": [],
      "include_colab_link": true
    },
    "kernelspec": {
      "display_name": "Python 3",
      "name": "python3"
    }
  },
  "nbformat": 4,
  "nbformat_minor": 0
}