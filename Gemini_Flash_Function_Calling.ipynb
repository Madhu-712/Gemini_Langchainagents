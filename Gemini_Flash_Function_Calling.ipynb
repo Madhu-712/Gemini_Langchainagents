{
  "cells": [
    {
      "cell_type": "markdown",
      "metadata": {
        "id": "view-in-github",
        "colab_type": "text"
      },
      "source": [
        "<a href=\"https://colab.research.google.com/github/Madhu-712/Gemini_Langchainagents/blob/main/Gemini_Flash_Function_Calling.ipynb\" target=\"_parent\"><img src=\"https://colab.research.google.com/assets/colab-badge.svg\" alt=\"Open In Colab\"/></a>"
      ]
    },
    {
      "cell_type": "markdown",
      "metadata": {
        "id": "yeadDkMiISin"
      },
      "source": [
        "# Gemini API: Customer Support Agent"
      ]
    },
    {
      "cell_type": "markdown",
      "source": [
        "### Install Packages"
      ],
      "metadata": {
        "id": "jXwdn2KG8QqM"
      }
    },
    {
      "cell_type": "code",
      "source": [
        "def is_prime(n):\n",
        "  \"\"\"Returns True if n is a prime number, False otherwise.\"\"\"\n",
        "  if n <= 1:\n",
        "    return False\n",
        "  for i in range(2, int(n ** 0.5) + 1):\n",
        "    if n % i == 0:\n",
        "      return False\n",
        "  return True\n",
        "\n",
        "primes = []\n",
        "num = 2\n",
        "while len(primes) < 200:\n",
        "  if is_prime(num):\n",
        "    primes.append(num)\n",
        "  num += 1\n",
        "\n",
        "sum_of_primes = sum(primes)\n",
        "print(f'The sum of the first 200 prime numbers is: {sum_of_primes}')"
      ],
      "metadata": {
        "id": "b3XQGoBDim2B",
        "outputId": "e6bf061a-1076-401f-8869-dc30c5f7ff95",
        "colab": {
          "base_uri": "https://localhost:8080/"
        }
      },
      "execution_count": 1,
      "outputs": [
        {
          "output_type": "stream",
          "name": "stdout",
          "text": [
            "The sum of the first 200 prime numbers is: 111587\n"
          ]
        }
      ]
    },
    {
      "cell_type": "code",
      "execution_count": 2,
      "metadata": {
        "id": "9OEoeosRTv-5"
      },
      "outputs": [],
      "source": [
        "!pip install -U -q google-generativeai"
      ]
    },
    {
      "cell_type": "markdown",
      "metadata": {
        "id": "KCFF5VSTbcAR"
      },
      "source": [
        "### Import packages"
      ]
    },
    {
      "cell_type": "markdown",
      "metadata": {
        "id": "vRC2HngneEeQ"
      },
      "source": [
        "Import the necessary packages."
      ]
    },
    {
      "cell_type": "code",
      "execution_count": 3,
      "metadata": {
        "id": "TS9l5igubpHO"
      },
      "outputs": [],
      "source": [
        "import pathlib\n",
        "import textwrap\n",
        "import time\n",
        "\n",
        "import google.generativeai as genai\n",
        "import google.ai.generativelanguage as glm\n",
        "\n",
        "from IPython import display\n",
        "from IPython.display import Markdown\n",
        "\n",
        "def to_markdown(text):\n",
        "  text = text.replace('•', '  *')\n",
        "  return Markdown(textwrap.indent(text, '> ', predicate=lambda _: True))"
      ]
    },
    {
      "cell_type": "markdown",
      "metadata": {
        "id": "gHYFrFPjSGNq"
      },
      "source": [
        "### Set up your API key\n",
        "\n",
        "Before you can use the Gemini API, you must first obtain an API key. If you don't already have one, create a key with one click in Google AI Studio.\n",
        "\n",
        "<a class=\"button button-primary\" href=\"https://makersuite.google.com/app/apikey\" target=\"_blank\" rel=\"noopener noreferrer\">Get an API key</a>\n"
      ]
    },
    {
      "cell_type": "code",
      "execution_count": 4,
      "metadata": {
        "id": "ab9ASynfcIZn"
      },
      "outputs": [],
      "source": [
        "try:\n",
        "    # Used to securely store your API key\n",
        "    from google.colab import userdata\n",
        "\n",
        "    # Or use `os.getenv('API_KEY')` to fetch an environment variable.\n",
        "    GOOGLE_API_KEY=userdata.get('GOOGLE_API_KEY')\n",
        "except ImportError:\n",
        "    import os\n",
        "    GOOGLE_API_KEY = os.environ['GOOGLE_API_KEY']\n",
        "\n",
        "genai.configure(api_key=GOOGLE_API_KEY)"
      ]
    },
    {
      "cell_type": "markdown",
      "source": [
        "### Customer Support Chatbot"
      ],
      "metadata": {
        "id": "dDer1Fxcvy16"
      }
    },
    {
      "cell_type": "code",
      "source": [
        "def get_order_status(order_id: str) -> str:\n",
        "    \"\"\"Fetches the status of a given order ID.\"\"\"\n",
        "    # Mock data for example purposes\n",
        "    order_statuses = {\n",
        "        \"12345\": \"Shipped\",\n",
        "        \"67890\": \"Processing\",\n",
        "        \"11223\": \"Delivered\"\n",
        "    }\n",
        "    return order_statuses.get(order_id, \"Order ID not found.\")\n",
        "\n",
        "def initiate_return(order_id: str, reason: str) -> str:\n",
        "    \"\"\"Initiates a return for a given order ID with a specified reason.\"\"\"\n",
        "    # Mock data for example purposes\n",
        "    if order_id in [\"12345\", \"67890\", \"11223\"]:\n",
        "        return f\"Return initiated for order {order_id} due to: {reason}.\"\n",
        "    else:\n",
        "        return \"Order ID not found. Cannot initiate return.\""
      ],
      "metadata": {
        "id": "6lEB_Wn7wffW"
      },
      "execution_count": 5,
      "outputs": []
    },
    {
      "cell_type": "markdown",
      "source": [
        "### Create Gemini Client"
      ],
      "metadata": {
        "id": "ggx1XAz39GBl"
      }
    },
    {
      "cell_type": "code",
      "source": [
        "model = genai.GenerativeModel(\n",
        "    model_name='gemini-1.5-flash-latest',\n",
        "    tools=[get_order_status, initiate_return] # list of all available tools\n",
        ")"
      ],
      "metadata": {
        "id": "BU28p4djwknt"
      },
      "execution_count": 6,
      "outputs": []
    },
    {
      "cell_type": "code",
      "source": [
        "model._tools.to_proto()"
      ],
      "metadata": {
        "id": "deVGE2iz-zMM",
        "outputId": "e2f2f368-b549-46ca-93fb-0c3ba8b69c58",
        "colab": {
          "base_uri": "https://localhost:8080/"
        }
      },
      "execution_count": 7,
      "outputs": [
        {
          "output_type": "execute_result",
          "data": {
            "text/plain": [
              "[function_declarations {\n",
              "   name: \"get_order_status\"\n",
              "   description: \"Fetches the status of a given order ID.\"\n",
              "   parameters {\n",
              "     type_: OBJECT\n",
              "     properties {\n",
              "       key: \"order_id\"\n",
              "       value {\n",
              "         type_: STRING\n",
              "       }\n",
              "     }\n",
              "     required: \"order_id\"\n",
              "   }\n",
              " }\n",
              " function_declarations {\n",
              "   name: \"initiate_return\"\n",
              "   description: \"Initiates a return for a given order ID with a specified reason.\"\n",
              "   parameters {\n",
              "     type_: OBJECT\n",
              "     properties {\n",
              "       key: \"reason\"\n",
              "       value {\n",
              "         type_: STRING\n",
              "       }\n",
              "     }\n",
              "     properties {\n",
              "       key: \"order_id\"\n",
              "       value {\n",
              "         type_: STRING\n",
              "       }\n",
              "     }\n",
              "     required: \"order_id\"\n",
              "     required: \"reason\"\n",
              "   }\n",
              " }]"
            ]
          },
          "metadata": {},
          "execution_count": 7
        }
      ]
    },
    {
      "cell_type": "markdown",
      "source": [
        "### alway use the model in chat mode for function calling"
      ],
      "metadata": {
        "id": "iei8kgtr9ZbV"
      }
    },
    {
      "cell_type": "code",
      "source": [
        "chat = model.start_chat(enable_automatic_function_calling=True)"
      ],
      "metadata": {
        "id": "J_CZGc7Xwoc1"
      },
      "execution_count": 8,
      "outputs": []
    },
    {
      "cell_type": "markdown",
      "source": [
        "While this was all handled automatically, if you need more control, you can:\n",
        "\n",
        "- Leave the default `enable_automatic_function_calling=False` and process the `glm.FunctionCall` responses yourself.\n",
        "- Or use `GenerativeModel.generate_content`, where you also need to manage the chat history."
      ],
      "metadata": {
        "id": "fW5VmiHB9hNr"
      }
    },
    {
      "cell_type": "code",
      "source": [
        "response = chat.send_message('What is the status of order 12345?')\n",
        "response.text"
      ],
      "metadata": {
        "id": "yGFCxG6rwrYW",
        "outputId": "f4e85354-1079-42e7-83da-184694449171",
        "colab": {
          "base_uri": "https://localhost:8080/",
          "height": 35
        }
      },
      "execution_count": 9,
      "outputs": [
        {
          "output_type": "execute_result",
          "data": {
            "text/plain": [
              "'The order has shipped.\\n'"
            ],
            "application/vnd.google.colaboratory.intrinsic+json": {
              "type": "string"
            }
          },
          "metadata": {},
          "execution_count": 9
        }
      ]
    },
    {
      "cell_type": "code",
      "source": [
        "response.candidates"
      ],
      "metadata": {
        "id": "WAmh01zZ_ELI",
        "outputId": "97a81f32-54da-4940-fd92-eab1726fc356",
        "colab": {
          "base_uri": "https://localhost:8080/"
        }
      },
      "execution_count": 10,
      "outputs": [
        {
          "output_type": "execute_result",
          "data": {
            "text/plain": [
              "[content {\n",
              "  parts {\n",
              "    text: \"The order has shipped.\\n\"\n",
              "  }\n",
              "  role: \"model\"\n",
              "}\n",
              "finish_reason: STOP\n",
              "avg_logprobs: -0.036300492783387504\n",
              "]"
            ]
          },
          "metadata": {},
          "execution_count": 10
        }
      ]
    },
    {
      "cell_type": "markdown",
      "source": [
        "Examine the chat history to see the flow of the conversation and how function calls are integrated within it.\n",
        "\n",
        "The `ChatSession.history` property stores a chronological record of the conversation between the user and the Gemini model. Each turn in the conversation is represented by a [`glm.Content`](https://ai.google.dev/api/python/google/ai/generativelanguage/Content) object, which contains the following information:\n",
        "\n",
        "*   **Role**: Identifies whether the content originated from the \"user\" or the \"model\".\n",
        "*   **Parts**: A list of [`glm.Part`](https://ai.google.dev/api/python/google/ai/generativelanguage/Part) objects that represent individual components of the message. With a text-only model, these parts can be:\n",
        "    *   **Text**: Plain text messages.\n",
        "    *   **Function Call** ([`glm.FunctionCall`](https://ai.google.dev/api/python/google/ai/generativelanguage/FunctionCall)): A request from the model to execute a specific function with provided arguments.\n",
        "    *   **Function Response** ([`glm.FunctionResponse`](https://ai.google.dev/api/python/google/ai/generativelanguage/FunctionResponse)): The result returned by the user after executing the requested function.\n",
        "\n",
        " In the previous example with the mittens calculation, the history shows the following sequence:\n",
        "\n",
        "1.  **User**: Asks the question about the total number of mittens.\n",
        "1.  **Model**: Determines that the multiply function is helpful and sends a FunctionCall request to the user.\n",
        "1.  **User**: The `ChatSession` automatically executes the function (due to `enable_automatic_function_calling` being set) and sends back a `FunctionResponse` with the calculated result.\n",
        "1.  **Model**: Uses the function's output to formulate the final answer and presents it as a text response."
      ],
      "metadata": {
        "id": "FgRjxALU9Oop"
      }
    },
    {
      "cell_type": "code",
      "source": [
        "for content in chat.history:\n",
        "    part = content.parts[0]\n",
        "    print(content.role, \"->\", type(part).to_dict(part))\n",
        "    print('-'*80)"
      ],
      "metadata": {
        "id": "ROnSMDfSwuK7",
        "outputId": "9ad820c0-c41c-44ef-d4b4-efb4a9300880",
        "colab": {
          "base_uri": "https://localhost:8080/"
        }
      },
      "execution_count": 11,
      "outputs": [
        {
          "output_type": "stream",
          "name": "stdout",
          "text": [
            "user -> {'text': 'What is the status of order 12345?'}\n",
            "--------------------------------------------------------------------------------\n",
            "model -> {'function_call': {'name': 'get_order_status', 'args': {'order_id': '12345'}}}\n",
            "--------------------------------------------------------------------------------\n",
            "user -> {'function_response': {'name': 'get_order_status', 'response': {'result': 'Shipped'}}}\n",
            "--------------------------------------------------------------------------------\n",
            "model -> {'text': 'The order has shipped.\\n'}\n",
            "--------------------------------------------------------------------------------\n"
          ]
        }
      ]
    },
    {
      "cell_type": "code",
      "source": [
        "response = chat.send_message('I want to return order 11223 because it is defective.')\n",
        "print(response.text)"
      ],
      "metadata": {
        "id": "wC3dAnN3wxZm",
        "outputId": "0397a9b5-2c30-4f39-f211-a63cce24aa6e",
        "colab": {
          "base_uri": "https://localhost:8080/",
          "height": 72
        }
      },
      "execution_count": 12,
      "outputs": [
        {
          "output_type": "stream",
          "name": "stdout",
          "text": [
            "OK. I have initiated a return for order 11223 because it is defective.\n",
            "\n"
          ]
        }
      ]
    },
    {
      "cell_type": "code",
      "source": [
        "response.candidates"
      ],
      "metadata": {
        "id": "J7pephlx_UWV",
        "outputId": "3d363240-5b8d-4bc8-8053-f0dc28087e3d",
        "colab": {
          "base_uri": "https://localhost:8080/"
        }
      },
      "execution_count": 13,
      "outputs": [
        {
          "output_type": "execute_result",
          "data": {
            "text/plain": [
              "[content {\n",
              "  parts {\n",
              "    text: \"OK. I have initiated a return for order 11223 because it is defective.\\n\"\n",
              "  }\n",
              "  role: \"model\"\n",
              "}\n",
              "finish_reason: STOP\n",
              "avg_logprobs: -0.049612754867190405\n",
              "]"
            ]
          },
          "metadata": {},
          "execution_count": 13
        }
      ]
    },
    {
      "cell_type": "code",
      "source": [
        "for content in chat.history:\n",
        "    part = content.parts[0]\n",
        "    print(content.role, \"->\", type(part).to_dict(part))\n",
        "    print('-'*80)"
      ],
      "metadata": {
        "id": "JXBzQJFmxK5o",
        "outputId": "b947d831-394e-4cb7-a4ff-6ce2dfe35dbd",
        "colab": {
          "base_uri": "https://localhost:8080/"
        }
      },
      "execution_count": 14,
      "outputs": [
        {
          "output_type": "stream",
          "name": "stdout",
          "text": [
            "user -> {'text': 'What is the status of order 12345?'}\n",
            "--------------------------------------------------------------------------------\n",
            "model -> {'function_call': {'name': 'get_order_status', 'args': {'order_id': '12345'}}}\n",
            "--------------------------------------------------------------------------------\n",
            "user -> {'function_response': {'name': 'get_order_status', 'response': {'result': 'Shipped'}}}\n",
            "--------------------------------------------------------------------------------\n",
            "model -> {'text': 'The order has shipped.\\n'}\n",
            "--------------------------------------------------------------------------------\n",
            "user -> {'text': 'I want to return order 11223 because it is defective.'}\n",
            "--------------------------------------------------------------------------------\n",
            "model -> {'function_call': {'name': 'initiate_return', 'args': {'order_id': '11223', 'reason': 'defective'}}}\n",
            "--------------------------------------------------------------------------------\n",
            "user -> {'function_response': {'name': 'initiate_return', 'response': {'result': 'Return initiated for order 11223 due to: defective.'}}}\n",
            "--------------------------------------------------------------------------------\n",
            "model -> {'text': 'OK. I have initiated a return for order 11223 because it is defective.\\n'}\n",
            "--------------------------------------------------------------------------------\n"
          ]
        }
      ]
    },
    {
      "cell_type": "markdown",
      "source": [
        "### Sequential Function Calls or Nested Calls\n",
        "\n",
        "Output of the first function call becomes the input to the second!\n",
        "\n",
        "    order_statuses = {\n",
        "        \"12345\": \"Shipped\",\n",
        "        \"67890\": \"Processing\",\n",
        "        \"11223\": \"Delivered\"\n",
        "    }"
      ],
      "metadata": {
        "id": "_4mQ7sUxxcfP"
      }
    },
    {
      "cell_type": "code",
      "source": [
        "response = chat.send_message('Can you check the status of order 11223? If its delivered, please initiat return as it was the wrong order')\n",
        "print(response.text)"
      ],
      "metadata": {
        "id": "yEvia26rxQRg",
        "outputId": "db0a5982-6bbd-4b8f-f9cf-ed6511c50798",
        "colab": {
          "base_uri": "https://localhost:8080/",
          "height": 72
        }
      },
      "execution_count": 15,
      "outputs": [
        {
          "output_type": "stream",
          "name": "stdout",
          "text": [
            "Return initiated for order 11223 because it was the wrong order.\n",
            "\n"
          ]
        }
      ]
    },
    {
      "cell_type": "code",
      "source": [
        "for content in chat.history:\n",
        "    part = content.parts[0]\n",
        "    print(content.role, \"->\", type(part).to_dict(part))\n",
        "    print('-'*80)"
      ],
      "metadata": {
        "id": "s21fGcSExu6f",
        "outputId": "012e67a9-d208-4191-9a17-7498dca701c8",
        "colab": {
          "base_uri": "https://localhost:8080/"
        }
      },
      "execution_count": 16,
      "outputs": [
        {
          "output_type": "stream",
          "name": "stdout",
          "text": [
            "user -> {'text': 'What is the status of order 12345?'}\n",
            "--------------------------------------------------------------------------------\n",
            "model -> {'function_call': {'name': 'get_order_status', 'args': {'order_id': '12345'}}}\n",
            "--------------------------------------------------------------------------------\n",
            "user -> {'function_response': {'name': 'get_order_status', 'response': {'result': 'Shipped'}}}\n",
            "--------------------------------------------------------------------------------\n",
            "model -> {'text': 'The order has shipped.\\n'}\n",
            "--------------------------------------------------------------------------------\n",
            "user -> {'text': 'I want to return order 11223 because it is defective.'}\n",
            "--------------------------------------------------------------------------------\n",
            "model -> {'function_call': {'name': 'initiate_return', 'args': {'order_id': '11223', 'reason': 'defective'}}}\n",
            "--------------------------------------------------------------------------------\n",
            "user -> {'function_response': {'name': 'initiate_return', 'response': {'result': 'Return initiated for order 11223 due to: defective.'}}}\n",
            "--------------------------------------------------------------------------------\n",
            "model -> {'text': 'OK. I have initiated a return for order 11223 because it is defective.\\n'}\n",
            "--------------------------------------------------------------------------------\n",
            "user -> {'text': 'Can you check the status of order 11223? If its delivered, please initiat return as it was the wrong order'}\n",
            "--------------------------------------------------------------------------------\n",
            "model -> {'function_call': {'name': 'get_order_status', 'args': {'order_id': '11223'}}}\n",
            "--------------------------------------------------------------------------------\n",
            "user -> {'function_response': {'name': 'get_order_status', 'response': {'result': 'Delivered'}}}\n",
            "--------------------------------------------------------------------------------\n",
            "model -> {'text': \"Order 11223 has been delivered.  Since it was the wrong order, I'll initiate a return.\\n\\n\"}\n",
            "--------------------------------------------------------------------------------\n",
            "user -> {'function_response': {'name': 'initiate_return', 'response': {'result': 'Return initiated for order 11223 due to: wrong order.'}}}\n",
            "--------------------------------------------------------------------------------\n",
            "model -> {'text': 'Return initiated for order 11223 because it was the wrong order.\\n'}\n",
            "--------------------------------------------------------------------------------\n"
          ]
        }
      ]
    },
    {
      "cell_type": "markdown",
      "source": [
        "# Sequential function calls - 2"
      ],
      "metadata": {
        "id": "q_f7MkGlx5lQ"
      }
    },
    {
      "cell_type": "markdown",
      "source": [
        "    order_statuses = {\n",
        "        \"12345\": \"Shipped\",\n",
        "        \"67890\": \"Processing\",\n",
        "        \"11223\": \"Delivered\"\n",
        "    }"
      ],
      "metadata": {
        "id": "f4HIBvoZ_8SV"
      }
    },
    {
      "cell_type": "code",
      "source": [
        "response = chat.send_message('Can you check the status of order 67890? If its delivered, please initiat return as it was the wrong order')\n",
        "print(response.text)"
      ],
      "metadata": {
        "id": "OA1h1zs6xy8k",
        "outputId": "0e7d8ede-d73b-46b4-ed53-968715161076",
        "colab": {
          "base_uri": "https://localhost:8080/",
          "height": 72
        }
      },
      "execution_count": 17,
      "outputs": [
        {
          "output_type": "stream",
          "name": "stdout",
          "text": [
            "The order 67890 is currently processing.  I cannot initiate a return until it is delivered.\n",
            "\n"
          ]
        }
      ]
    },
    {
      "cell_type": "code",
      "source": [
        "response = chat.send_message('Can you check the status of order 67890? If its delivered, please initiat return as it was the wrong order else cancel the order.')\n",
        "print(response.text)"
      ],
      "metadata": {
        "id": "joQvGA3NzEqN",
        "outputId": "3ece53da-6ce6-4892-ce32-3b3f5f05062b",
        "colab": {
          "base_uri": "https://localhost:8080/",
          "height": 72
        }
      },
      "execution_count": 18,
      "outputs": [
        {
          "output_type": "stream",
          "name": "stdout",
          "text": [
            "Order 67890 is currently processing.  I cannot initiate a return or cancellation at this stage.\n",
            "\n"
          ]
        }
      ]
    },
    {
      "cell_type": "code",
      "source": [
        "for content in chat.history:\n",
        "    part = content.parts[0]\n",
        "    print(content.role, \"->\", type(part).to_dict(part))\n",
        "    print('-'*80)"
      ],
      "metadata": {
        "id": "kyYryubuzdUD",
        "outputId": "a1f3f4d7-f3dc-4dc4-b440-ea4199123155",
        "colab": {
          "base_uri": "https://localhost:8080/"
        }
      },
      "execution_count": 19,
      "outputs": [
        {
          "output_type": "stream",
          "name": "stdout",
          "text": [
            "user -> {'text': 'What is the status of order 12345?'}\n",
            "--------------------------------------------------------------------------------\n",
            "model -> {'function_call': {'name': 'get_order_status', 'args': {'order_id': '12345'}}}\n",
            "--------------------------------------------------------------------------------\n",
            "user -> {'function_response': {'name': 'get_order_status', 'response': {'result': 'Shipped'}}}\n",
            "--------------------------------------------------------------------------------\n",
            "model -> {'text': 'The order has shipped.\\n'}\n",
            "--------------------------------------------------------------------------------\n",
            "user -> {'text': 'I want to return order 11223 because it is defective.'}\n",
            "--------------------------------------------------------------------------------\n",
            "model -> {'function_call': {'name': 'initiate_return', 'args': {'order_id': '11223', 'reason': 'defective'}}}\n",
            "--------------------------------------------------------------------------------\n",
            "user -> {'function_response': {'name': 'initiate_return', 'response': {'result': 'Return initiated for order 11223 due to: defective.'}}}\n",
            "--------------------------------------------------------------------------------\n",
            "model -> {'text': 'OK. I have initiated a return for order 11223 because it is defective.\\n'}\n",
            "--------------------------------------------------------------------------------\n",
            "user -> {'text': 'Can you check the status of order 11223? If its delivered, please initiat return as it was the wrong order'}\n",
            "--------------------------------------------------------------------------------\n",
            "model -> {'function_call': {'name': 'get_order_status', 'args': {'order_id': '11223'}}}\n",
            "--------------------------------------------------------------------------------\n",
            "user -> {'function_response': {'name': 'get_order_status', 'response': {'result': 'Delivered'}}}\n",
            "--------------------------------------------------------------------------------\n",
            "model -> {'text': \"Order 11223 has been delivered.  Since it was the wrong order, I'll initiate a return.\\n\\n\"}\n",
            "--------------------------------------------------------------------------------\n",
            "user -> {'function_response': {'name': 'initiate_return', 'response': {'result': 'Return initiated for order 11223 due to: wrong order.'}}}\n",
            "--------------------------------------------------------------------------------\n",
            "model -> {'text': 'Return initiated for order 11223 because it was the wrong order.\\n'}\n",
            "--------------------------------------------------------------------------------\n",
            "user -> {'text': 'Can you check the status of order 67890? If its delivered, please initiat return as it was the wrong order'}\n",
            "--------------------------------------------------------------------------------\n",
            "model -> {'function_call': {'name': 'get_order_status', 'args': {'order_id': '67890'}}}\n",
            "--------------------------------------------------------------------------------\n",
            "user -> {'function_response': {'name': 'get_order_status', 'response': {'result': 'Processing'}}}\n",
            "--------------------------------------------------------------------------------\n",
            "model -> {'text': 'The order 67890 is currently processing.  I cannot initiate a return until it is delivered.\\n'}\n",
            "--------------------------------------------------------------------------------\n",
            "user -> {'text': 'Can you check the status of order 67890? If its delivered, please initiat return as it was the wrong order else cancel the order.'}\n",
            "--------------------------------------------------------------------------------\n",
            "model -> {'function_call': {'name': 'get_order_status', 'args': {'order_id': '67890'}}}\n",
            "--------------------------------------------------------------------------------\n",
            "user -> {'function_response': {'name': 'get_order_status', 'response': {'result': 'Processing'}}}\n",
            "--------------------------------------------------------------------------------\n",
            "model -> {'text': 'Order 67890 is currently processing.  I cannot initiate a return or cancellation at this stage.\\n'}\n",
            "--------------------------------------------------------------------------------\n"
          ]
        }
      ]
    },
    {
      "cell_type": "markdown",
      "source": [
        "### Adding a funciton to handle cancel"
      ],
      "metadata": {
        "id": "wVY-rJR0y6S8"
      }
    },
    {
      "cell_type": "code",
      "source": [
        "def get_order_status(order_id: str) -> str:\n",
        "    \"\"\"Fetches the status of a given order ID.\"\"\"\n",
        "    # Mock data for example purposes\n",
        "    order_statuses = {\n",
        "        \"12345\": \"Shipped\",\n",
        "        \"67890\": \"Processing\",\n",
        "        \"11223\": \"Delivered\"\n",
        "    }\n",
        "    return order_statuses.get(order_id, \"Order ID not found.\")\n",
        "\n",
        "def initiate_return(order_id: str, reason: str) -> str:\n",
        "    \"\"\"Initiates a return for a given order ID with a specified reason.\"\"\"\n",
        "    # Mock data for example purposes\n",
        "    if order_id in [\"12345\", \"67890\", \"11223\"]:\n",
        "        return f\"Return initiated for order {order_id} due to: {reason}.\"\n",
        "    else:\n",
        "        return \"Order ID not found. Cannot initiate return.\"\n",
        "\n",
        "def cancel_order(order_id: str) -> str:\n",
        "    \"\"\"Cancels a given order ID if possible.\"\"\"\n",
        "    # Mock data for example purposes\n",
        "    order_statuses = {\n",
        "        \"12345\": \"Shipped\",\n",
        "        \"67890\": \"Processing\",\n",
        "        \"11223\": \"Delivered\"\n",
        "    }\n",
        "    if order_id in order_statuses:\n",
        "        if order_statuses[order_id] == \"Processing\":\n",
        "            return f\"Order {order_id} has been canceled successfully.\"\n",
        "        else:\n",
        "            return f\"Order {order_id} cannot be canceled as it is already {order_statuses[order_id]}.\"\n",
        "    else:\n",
        "        return \"Order ID not found. Cannot cancel order.\""
      ],
      "metadata": {
        "id": "W_tqYwDhyHhQ"
      },
      "execution_count": 20,
      "outputs": []
    },
    {
      "cell_type": "markdown",
      "source": [
        "add cancel to the list of functions."
      ],
      "metadata": {
        "id": "TuV34rTMzlcI"
      }
    },
    {
      "cell_type": "code",
      "source": [
        "model = genai.GenerativeModel(\n",
        "    model_name='gemini-1.5-flash-latest',\n",
        "    tools=[get_order_status, initiate_return, cancel_order]\n",
        ")"
      ],
      "metadata": {
        "id": "67k0HLs4zh-_"
      },
      "execution_count": 21,
      "outputs": []
    },
    {
      "cell_type": "code",
      "source": [
        "chat = model.start_chat(enable_automatic_function_calling=True)"
      ],
      "metadata": {
        "id": "h960xOlUzivn"
      },
      "execution_count": 22,
      "outputs": []
    },
    {
      "cell_type": "code",
      "source": [
        "response = chat.send_message('Can you check the status of order 67890? If its delivered, please initiat return as it was the wrong order else cancel the order.')\n",
        "print(response.text)"
      ],
      "metadata": {
        "id": "kpZ7eIzJzu4E",
        "outputId": "91d134d2-9d92-4dbb-f9f5-932c2088a5ac",
        "colab": {
          "base_uri": "https://localhost:8080/",
          "height": 72
        }
      },
      "execution_count": 23,
      "outputs": [
        {
          "output_type": "stream",
          "name": "stdout",
          "text": [
            "The order with ID 67890 is currently being processed.  I cannot initiate a return or cancellation at this time.\n",
            "\n"
          ]
        }
      ]
    },
    {
      "cell_type": "code",
      "source": [
        "for content in chat.history:\n",
        "    part = content.parts[0]\n",
        "    print(content.role, \"->\", type(part).to_dict(part))\n",
        "    print('-'*80)"
      ],
      "metadata": {
        "id": "yD_ZwCygzzCk",
        "outputId": "c28d5bd0-dcbf-4d0a-9ba2-9097b12de77d",
        "colab": {
          "base_uri": "https://localhost:8080/"
        }
      },
      "execution_count": 24,
      "outputs": [
        {
          "output_type": "stream",
          "name": "stdout",
          "text": [
            "user -> {'text': 'Can you check the status of order 67890? If its delivered, please initiat return as it was the wrong order else cancel the order.'}\n",
            "--------------------------------------------------------------------------------\n",
            "model -> {'function_call': {'name': 'get_order_status', 'args': {'order_id': '67890'}}}\n",
            "--------------------------------------------------------------------------------\n",
            "user -> {'function_response': {'name': 'get_order_status', 'response': {'result': 'Processing'}}}\n",
            "--------------------------------------------------------------------------------\n",
            "model -> {'text': 'The order with ID 67890 is currently being processed.  I cannot initiate a return or cancellation at this time.\\n'}\n",
            "--------------------------------------------------------------------------------\n"
          ]
        }
      ]
    },
    {
      "cell_type": "code",
      "source": [],
      "metadata": {
        "id": "1f3upXl51Umw"
      },
      "execution_count": null,
      "outputs": []
    },
    {
      "cell_type": "markdown",
      "source": [
        "### Parallel Function Calling. Can it handle those?"
      ],
      "metadata": {
        "id": "tvUH5eBy1Wu-"
      }
    },
    {
      "cell_type": "markdown",
      "source": [
        "    order_statuses = {\n",
        "        \"12345\": \"Shipped\",\n",
        "        \"67890\": \"Processing\",\n",
        "        \"11223\": \"Delivered\"\n",
        "    }"
      ],
      "metadata": {
        "id": "bZ1EecdlAuiA"
      }
    },
    {
      "cell_type": "code",
      "source": [
        "model = genai.GenerativeModel(\n",
        "    model_name='gemini-1.5-flash-latest',\n",
        "    tools=[get_order_status, initiate_return, cancel_order]\n",
        ")\n",
        "\n",
        "chat = model.start_chat(enable_automatic_function_calling=True)"
      ],
      "metadata": {
        "id": "uaWgT_TF18kU"
      },
      "execution_count": 25,
      "outputs": []
    },
    {
      "cell_type": "code",
      "source": [
        "response = chat.send_message(\"What is the status of order 12345? Also, can you cancel order 67890 and initiate a return for order 11223 because it is defective?\")"
      ],
      "metadata": {
        "id": "D03RPeE_z2i1"
      },
      "execution_count": 26,
      "outputs": []
    },
    {
      "cell_type": "code",
      "source": [
        "response.text"
      ],
      "metadata": {
        "id": "e2Pxn9v01lRt",
        "outputId": "bfafecbf-6389-4a5d-bee1-14af10b947ba",
        "colab": {
          "base_uri": "https://localhost:8080/",
          "height": 105
        }
      },
      "execution_count": 27,
      "outputs": [
        {
          "output_type": "execute_result",
          "data": {
            "text/plain": [
              "'The status of order 12345 is Shipped. Order 67890 has been canceled successfully. A return has been initiated for order 11223 because it is defective.\\n'"
            ],
            "application/vnd.google.colaboratory.intrinsic+json": {
              "type": "string"
            }
          },
          "metadata": {},
          "execution_count": 27
        }
      ]
    },
    {
      "cell_type": "markdown",
      "source": [
        "### How many functions it can handle"
      ],
      "metadata": {
        "id": "mRK54Lic4EOx"
      }
    },
    {
      "cell_type": "code",
      "source": [
        "def get_order_status(order_id: str) -> str:\n",
        "    \"\"\"Fetches the status of a given order ID.\"\"\"\n",
        "    # Mock data for example purposes\n",
        "    order_statuses = {\n",
        "        \"12345\": \"Shipped\",\n",
        "        \"67890\": \"Processing\",\n",
        "        \"11223\": \"Delivered\"\n",
        "    }\n",
        "    return order_statuses.get(order_id, \"Order ID not found.\")\n",
        "\n",
        "def initiate_return(order_id: str, reason: str) -> str:\n",
        "    \"\"\"Initiates a return for a given order ID with a specified reason.\"\"\"\n",
        "    # Mock data for example purposes\n",
        "    if order_id in [\"12345\", \"67890\", \"11223\"]:\n",
        "        return f\"Return initiated for order {order_id} due to: {reason}.\"\n",
        "    else:\n",
        "        return \"Order ID not found. Cannot initiate return.\"\n",
        "\n",
        "def cancel_order(order_id: str) -> str:\n",
        "    \"\"\"Cancels a given order ID if possible.\"\"\"\n",
        "    # Mock data for example purposes\n",
        "    order_statuses = {\n",
        "        \"12345\": \"Shipped\",\n",
        "        \"67890\": \"Processing\",\n",
        "        \"11223\": \"Delivered\"\n",
        "    }\n",
        "    if order_id in order_statuses:\n",
        "        if order_statuses[order_id] == \"Processing\":\n",
        "            return f\"Order {order_id} has been canceled successfully.\"\n",
        "        else:\n",
        "            return f\"Order {order_id} cannot be canceled as it is already {order_statuses[order_id]}.\"\n",
        "    else:\n",
        "        return \"Order ID not found. Cannot cancel order.\"\n",
        "\n",
        "def update_shipping_address(order_id: str, new_address: str) -> str:\n",
        "    \"\"\"Updates the shipping address for a given order ID.\"\"\"\n",
        "    # Mock data for example purposes\n",
        "    if order_id in [\"12345\", \"67890\", \"11223\"]:\n",
        "        return f\"Shipping address for order {order_id} has been updated to: {new_address}.\"\n",
        "    else:\n",
        "        return \"Order ID not found. Cannot update shipping address.\"\n",
        "\n",
        "def track_shipment(tracking_number: str) -> str:\n",
        "    \"\"\"Tracks the shipment with the given tracking number.\"\"\"\n",
        "    # Mock data for example purposes\n",
        "    tracking_info = {\n",
        "        \"TRACK123\": \"In Transit\",\n",
        "        \"TRACK456\": \"Delivered\",\n",
        "        \"TRACK789\": \"Out for Delivery\"\n",
        "    }\n",
        "    return tracking_info.get(tracking_number, \"Tracking number not found.\")\n",
        "\n",
        "def apply_discount(order_id: str, discount_code: str) -> str:\n",
        "    \"\"\"Applies a discount to the given order ID.\"\"\"\n",
        "    # Mock data for example purposes\n",
        "    valid_discount_codes = [\"DISCOUNT10\", \"SAVE20\"]\n",
        "    if order_id in [\"12345\", \"67890\", \"11223\"]:\n",
        "        if discount_code in valid_discount_codes:\n",
        "            return f\"Discount code {discount_code} applied to order {order_id}.\"\n",
        "        else:\n",
        "            return f\"Invalid discount code: {discount_code}.\"\n",
        "    else:\n",
        "        return \"Order ID not found. Cannot apply discount.\"\n",
        "\n",
        "def change_payment_method(order_id: str, payment_method: str) -> str:\n",
        "    \"\"\"Changes the payment method for a given order ID.\"\"\"\n",
        "    # Mock data for example purposes\n",
        "    if order_id in [\"12345\", \"67890\", \"11223\"]:\n",
        "        return f\"Payment method for order {order_id} has been changed to: {payment_method}.\"\n",
        "    else:\n",
        "        return \"Order ID not found. Cannot change payment method.\"\n",
        "\n",
        "def provide_invoice(order_id: str) -> str:\n",
        "    \"\"\"Provides an invoice for the given order ID.\"\"\"\n",
        "    # Mock data for example purposes\n",
        "    if order_id in [\"12345\", \"67890\", \"11223\"]:\n",
        "        return f\"Invoice for order {order_id} has been sent to your email.\"\n",
        "    else:\n",
        "        return \"Order ID not found. Cannot provide invoice.\"\n",
        "\n",
        "def extend_warranty(order_id: str, years: int) -> str:\n",
        "    \"\"\"Extends the warranty for a given order ID.\"\"\"\n",
        "    # Mock data for example purposes\n",
        "    if order_id in [\"12345\", \"67890\", \"11223\"]:\n",
        "        return f\"Warranty for order {order_id} has been extended by {years} years.\"\n",
        "    else:\n",
        "        return \"Order ID not found. Cannot extend warranty.\"\n",
        "\n",
        "def check_product_availability(product_id: str) -> str:\n",
        "    \"\"\"Checks the availability of a product with the given product ID.\"\"\"\n",
        "    # Mock data for example purposes\n",
        "    product_availability = {\n",
        "        \"PROD123\": \"In Stock\",\n",
        "        \"PROD456\": \"Out of Stock\",\n",
        "        \"PROD789\": \"Limited Stock\"\n",
        "    }\n",
        "    return product_availability.get(product_id, \"Product ID not found.\")"
      ],
      "metadata": {
        "id": "5Xdtyi-e1rjc"
      },
      "execution_count": 56,
      "outputs": []
    },
    {
      "cell_type": "code",
      "source": [
        "model = genai.GenerativeModel(\n",
        "    model_name='gemini-1.5-flash-latest',\n",
        "    tools=[\n",
        "        get_order_status, initiate_return, cancel_order, update_shipping_address,\n",
        "        track_shipment, apply_discount, change_payment_method, provide_invoice,\n",
        "        extend_warranty, check_product_availability\n",
        "    ]\n",
        ")"
      ],
      "metadata": {
        "id": "0ql98GZd4Hyk"
      },
      "execution_count": 57,
      "outputs": []
    },
    {
      "cell_type": "code",
      "source": [
        "chat = model.start_chat()"
      ],
      "metadata": {
        "id": "BMvZf-1K4NIx"
      },
      "execution_count": 58,
      "outputs": []
    },
    {
      "cell_type": "code",
      "source": [
        "response = chat.send_message(\"Can you change the payment method to'COD'and provide the Invoice for 12345 order id\")"
      ],
      "metadata": {
        "id": "xmkcO0LUaWBZ"
      },
      "execution_count": 59,
      "outputs": []
    },
    {
      "cell_type": "code",
      "source": [
        "response.candidates"
      ],
      "metadata": {
        "id": "LrUxJhC3a8k7",
        "outputId": "6417004c-347c-4af0-8335-abdeddd8ab9b",
        "colab": {
          "base_uri": "https://localhost:8080/"
        }
      },
      "execution_count": 47,
      "outputs": [
        {
          "output_type": "execute_result",
          "data": {
            "text/plain": [
              "[content {\n",
              "  parts {\n",
              "    function_call {\n",
              "      name: \"change_payment_method\"\n",
              "      args {\n",
              "        fields {\n",
              "          key: \"payment_method\"\n",
              "          value {\n",
              "            string_value: \"COD\"\n",
              "          }\n",
              "        }\n",
              "        fields {\n",
              "          key: \"order_id\"\n",
              "          value {\n",
              "            string_value: \"12345\"\n",
              "          }\n",
              "        }\n",
              "      }\n",
              "    }\n",
              "  }\n",
              "  parts {\n",
              "    text: \"\\n\"\n",
              "  }\n",
              "  parts {\n",
              "    function_call {\n",
              "      name: \"provide_invoice\"\n",
              "      args {\n",
              "        fields {\n",
              "          key: \"order_id\"\n",
              "          value {\n",
              "            string_value: \"12345\"\n",
              "          }\n",
              "        }\n",
              "      }\n",
              "    }\n",
              "  }\n",
              "  role: \"model\"\n",
              "}\n",
              "finish_reason: STOP\n",
              "avg_logprobs: -0.00821373072163812\n",
              "]"
            ]
          },
          "metadata": {},
          "execution_count": 47
        }
      ]
    },
    {
      "cell_type": "code",
      "source": [
        "# Print out each of the function calls requested from this single call.\n",
        "for part in response.parts:\n",
        "    if fn := part.function_call:\n",
        "        args = \", \".join(f\"{key}={val}\" for key, val in fn.args.items())\n",
        "        print(f\"{fn.name}({args})\")"
      ],
      "metadata": {
        "id": "KqU1iY_9bG3N",
        "outputId": "df47f77a-3215-40dd-8319-1c30aa4b086a",
        "colab": {
          "base_uri": "https://localhost:8080/"
        }
      },
      "execution_count": 48,
      "outputs": [
        {
          "output_type": "stream",
          "name": "stdout",
          "text": [
            "change_payment_method(payment_method=COD, order_id=12345)\n",
            "provide_invoice(order_id=12345)\n"
          ]
        }
      ]
    },
    {
      "cell_type": "code",
      "source": [
        "responses = {\n",
        "    'change_payment_method': change_payment_method(payment_method=\"COD\",order_id=\"12345\"),\n",
        "    'provide_invoice': provide_invoice(order_id=\"12345\")\n",
        "}"
      ],
      "metadata": {
        "id": "XcZ47alNdssQ"
      },
      "execution_count": 51,
      "outputs": []
    },
    {
      "cell_type": "code",
      "source": [
        "change_payment_method(payment_method=\"COD\",order_id=\"12345\")"
      ],
      "metadata": {
        "id": "pC5CPVWgdt6w",
        "outputId": "12a35b3d-fc2a-498d-c099-27b05d490a8d",
        "colab": {
          "base_uri": "https://localhost:8080/",
          "height": 53
        }
      },
      "execution_count": 52,
      "outputs": [
        {
          "output_type": "execute_result",
          "data": {
            "text/plain": [
              "'Payment method for order 12345 has been changed to: COD.'"
            ],
            "application/vnd.google.colaboratory.intrinsic+json": {
              "type": "string"
            }
          },
          "metadata": {},
          "execution_count": 52
        }
      ]
    },
    {
      "cell_type": "code",
      "source": [
        "# Build the response parts.\n",
        "response_parts = [\n",
        "    glm.Part(function_response=glm.FunctionResponse(name=fn, response={\"result\": val}))\n",
        "    for fn, val in responses.items()\n",
        "]\n",
        "\n",
        "responses = chat.send_message(response_parts)\n",
        "print(responses.text)"
      ],
      "metadata": {
        "id": "190YGVwkfP0W",
        "outputId": "8ea3d949-7c4e-4833-f2af-71eb2bd9fac6",
        "colab": {
          "base_uri": "https://localhost:8080/",
          "height": 72
        }
      },
      "execution_count": 53,
      "outputs": [
        {
          "output_type": "stream",
          "name": "stdout",
          "text": [
            "The payment method for order 12345 has been changed to COD. The invoice has been sent to your email.\n",
            "\n"
          ]
        }
      ]
    },
    {
      "cell_type": "code",
      "source": [
        "response = chat.send_message(\"What is the status of order 12345? Can you update the address to 123 Main St, Anytown USA?\")\n",
        "# response.text"
      ],
      "metadata": {
        "id": "H4RqFGsn4OxL"
      },
      "execution_count": 31,
      "outputs": []
    },
    {
      "cell_type": "code",
      "source": [
        "response.candidates"
      ],
      "metadata": {
        "id": "Kv1MuYaiCAxW",
        "outputId": "e30d4a71-cf6a-45f0-90bd-ac68534f6d26",
        "colab": {
          "base_uri": "https://localhost:8080/"
        }
      },
      "execution_count": 32,
      "outputs": [
        {
          "output_type": "execute_result",
          "data": {
            "text/plain": [
              "[content {\n",
              "  parts {\n",
              "    function_call {\n",
              "      name: \"get_order_status\"\n",
              "      args {\n",
              "        fields {\n",
              "          key: \"order_id\"\n",
              "          value {\n",
              "            string_value: \"12345\"\n",
              "          }\n",
              "        }\n",
              "      }\n",
              "    }\n",
              "  }\n",
              "  parts {\n",
              "    function_call {\n",
              "      name: \"update_shipping_address\"\n",
              "      args {\n",
              "        fields {\n",
              "          key: \"order_id\"\n",
              "          value {\n",
              "            string_value: \"12345\"\n",
              "          }\n",
              "        }\n",
              "        fields {\n",
              "          key: \"new_address\"\n",
              "          value {\n",
              "            string_value: \"123 Main St, Anytown USA\"\n",
              "          }\n",
              "        }\n",
              "      }\n",
              "    }\n",
              "  }\n",
              "  role: \"model\"\n",
              "}\n",
              "finish_reason: STOP\n",
              "avg_logprobs: -1.1073951961742223e-06\n",
              "]"
            ]
          },
          "metadata": {},
          "execution_count": 32
        }
      ]
    },
    {
      "cell_type": "code",
      "source": [
        "# Print out each of the function calls requested from this single call.\n",
        "for part in response.parts:\n",
        "    if fn := part.function_call:\n",
        "        args = \", \".join(f\"{key}={val}\" for key, val in fn.args.items())\n",
        "        print(f\"{fn.name}({args})\")"
      ],
      "metadata": {
        "id": "LlYZuqS34Vux",
        "outputId": "65e8805a-bdb4-4ffc-dc17-6f26056404d5",
        "colab": {
          "base_uri": "https://localhost:8080/"
        }
      },
      "execution_count": 33,
      "outputs": [
        {
          "output_type": "stream",
          "name": "stdout",
          "text": [
            "get_order_status(order_id=12345)\n",
            "update_shipping_address(new_address=123 Main St, Anytown USA, order_id=12345)\n"
          ]
        }
      ]
    },
    {
      "cell_type": "code",
      "source": [
        "responses = {\n",
        "    'get_order_status': get_order_status(order_id=\"12345\"),\n",
        "    'update_shipping_address': update_shipping_address(order_id=\"12345\", new_address=\"123 Main St, Anytown USA\")\n",
        "}"
      ],
      "metadata": {
        "id": "mw_3MAsPEZNz"
      },
      "execution_count": 34,
      "outputs": []
    },
    {
      "cell_type": "code",
      "source": [
        "get_order_status(order_id=\"12345\")"
      ],
      "metadata": {
        "id": "6VnX_ro6FbXh",
        "outputId": "64016494-246b-4e65-8509-261e34754053",
        "colab": {
          "base_uri": "https://localhost:8080/",
          "height": 35
        }
      },
      "execution_count": 35,
      "outputs": [
        {
          "output_type": "execute_result",
          "data": {
            "text/plain": [
              "'Shipped'"
            ],
            "application/vnd.google.colaboratory.intrinsic+json": {
              "type": "string"
            }
          },
          "metadata": {},
          "execution_count": 35
        }
      ]
    },
    {
      "cell_type": "code",
      "source": [
        "# Build the response parts.\n",
        "response_parts = [\n",
        "    glm.Part(function_response=glm.FunctionResponse(name=fn, response={\"result\": val}))\n",
        "    for fn, val in responses.items()\n",
        "]\n",
        "\n",
        "responses = chat.send_message(response_parts)\n",
        "print(responses.text)"
      ],
      "metadata": {
        "id": "sqvk1ZUG65rq",
        "outputId": "2a599f9b-d133-4f6f-f404-2725107f22b8",
        "colab": {
          "base_uri": "https://localhost:8080/",
          "height": 72
        }
      },
      "execution_count": 36,
      "outputs": [
        {
          "output_type": "stream",
          "name": "stdout",
          "text": [
            "The order status is shipped. The shipping address has been updated to 123 Main St, Anytown, USA.\n",
            "\n"
          ]
        }
      ]
    },
    {
      "cell_type": "code",
      "source": [],
      "metadata": {
        "id": "CRrTSpCMGzDs"
      },
      "execution_count": null,
      "outputs": []
    }
  ],
  "metadata": {
    "colab": {
      "provenance": [],
      "include_colab_link": true
    },
    "google": {
      "image_path": "/site-assets/images/share.png",
      "keywords": [
        "examples",
        "googleai",
        "samplecode",
        "python",
        "embed",
        "function"
      ]
    },
    "kernelspec": {
      "display_name": "Python 3",
      "name": "python3"
    }
  },
  "nbformat": 4,
  "nbformat_minor": 0
}